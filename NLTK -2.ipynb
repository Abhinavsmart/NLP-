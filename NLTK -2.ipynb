{
 "cells": [
  {
   "cell_type": "code",
   "execution_count": 1,
   "metadata": {},
   "outputs": [],
   "source": [
    "import re\n",
    "import nltk\n",
    "from nltk.corpus import stopwords\n",
    "from nltk.stem.porter import PorterStemmer\n",
    "from nltk.stem import WordNetLemmatizer"
   ]
  },
  {
   "cell_type": "code",
   "execution_count": 2,
   "metadata": {},
   "outputs": [],
   "source": [
    "paragraph=\"\"\"I have three visions for India. In 3000 years of our history people from all over the world have come and invaded us, captured our lands, conquered our minds. From Alexander onwards the Greeks, the Turks, the Moguls, the Portuguese, the British, the French, the Dutch, all of them came and looted us, took over what was ours. Yet we have not done this to any other nation. We have not conquered anyone. We have not grabbed their land, their culture and their history and tried to enforce our way of life on them. Why? Because we respect the freedom of others. That is why my FIRST VISION is that of FREEDOM. I believe that India got its first vision of this in 1857, when we started the war of Independence. It is this freedom that we must protect and nurture and build on. If we are not free, no one will respect us.\n",
    "\n",
    "We have 10 percent growth rate in most areas. Our poverty levels are falling. Our achievements are being globally recognised today. Yet we lack the self-confidence to see ourselves as a developed nation, self-reliant and self-assured. Isn’t this incorrect? MY SECOND VISION for India is DEVELOPMENT. For fifty years we have been a developing nation. It is time we see ourselves as a developed nation. We are among top five nations in the world in terms of GDP.\n",
    "\n",
    "I have a THIRD VISION. India must stand up to the world. Because I believe that unless India stands up to the world, no one will respect us. Only strength respects strength. We must be strong not only as a military power but also as an economic power. Both must go hand-in-hand. My good fortune was to have worked with three great minds. Dr.Vikram Sarabhai, of the Dept. of Space, Professor Satish Dhawan, who succeeded him and Dr. Brahm Prakash, father of nuclear material. I was lucky to have worked with all three of them closely and consider this the great opportunity of my life.\n",
    "\n",
    "I was in Hyderabad giving this lecture, when a 14 year-old girl asked me for my autograph. I asked her what her goal in life is. She replied: I want to live in a developed India. For her, you and I will have to build this developed India. You must proclaim India is not an underdeveloped nation; it is a highly developed nation.\n",
    "\n",
    "You say that our government is inefficient. You say that our laws are too old. You say that the municipality does not pick up the garbage. You say that the phones don’t work, the railways are a joke, the airline is the worst in the world, and mails never reach their destination. You say that our country has been fed to the dogs and is the absolute pits. You say, say and say. What do you do about it?\"\"\""
   ]
  },
  {
   "cell_type": "code",
   "execution_count": 3,
   "metadata": {},
   "outputs": [],
   "source": [
    "ps=PorterStemmer()\n",
    "wordnet=WordNetLemmatizer()\n",
    "sentences= nltk.sent_tokenize(paragraph)\n",
    "corpus=[]"
   ]
  },
  {
   "cell_type": "code",
   "execution_count": 4,
   "metadata": {},
   "outputs": [],
   "source": [
    "# Cleaning the text\n",
    "for i in range(len(sentences)):\n",
    "    review= re.sub('[^a-zA-z]','',sentences[i])\n",
    "    review=review.lower()\n",
    "    review=review.split()\n",
    "    review=[ps.stem(word) for word in review if not word in set(stopwords.words('english'))]\n",
    "    review= \" \".join(review)\n",
    "    corpus.append(review)"
   ]
  },
  {
   "cell_type": "code",
   "execution_count": 5,
   "metadata": {
    "scrolled": false
   },
   "outputs": [
    {
     "name": "stdout",
     "output_type": "stream",
     "text": [
      "['ihavethreevisionsforindia', 'inyearsofourhistorypeoplefromallovertheworldhavecomeandinvadeduscapturedourlandsconqueredourmind', 'fromalexanderonwardsthegreekstheturksthemogulstheportuguesethebritishthefrenchthedutchallofthemcameandlootedustookoverwhatwasour', 'yetwehavenotdonethistoanyothern', 'wehavenotconqueredanyon', 'wehavenotgrabbedtheirlandtheircultureandtheirhistoryandtriedtoenforceourwayoflifeonthem', '', 'becausewerespectthefreedomofoth', 'thatiswhymyfirstvisionisthatoffreedom', 'ibelievethatindiagotitsfirstvisionofthisinwhenwestartedthewarofindepend', 'itisthisfreedomthatwemustprotectandnurtureandbuildon', 'ifwearenotfreenoonewillrespectu', 'wehavepercentgrowthrateinmostarea', 'ourpovertylevelsarefal', 'ourachievementsarebeinggloballyrecognisedtoday', 'yetwelacktheselfconfidencetoseeourselvesasadevelopednationselfreliantandselfassur', 'isntthisincorrect', 'mysecondvisionforindiaisdevelop', 'forfiftyyearswehavebeenadevelopingn', 'itistimeweseeourselvesasadevelopedn', 'weareamongtopfivenationsintheworldintermsofgdp', 'ihaveathirdvis', 'indiamuststanduptotheworld', 'becauseibelievethatunlessindiastandsuptotheworldnoonewillrespectu', 'onlystrengthrespectsstrength', 'wemustbestrongnotonlyasamilitarypowerbutalsoasaneconomicpow', 'bothmustgohandinhand', 'mygoodfortunewastohaveworkedwiththreegreatmind', 'drvikramsarabhaiofthedept', 'ofspaceprofessorsatishdhawanwhosucceededhimanddrbrahmprakashfatherofnuclearmateri', 'iwasluckytohaveworkedwithallthreeofthemcloselyandconsiderthisthegreatopportunityofmylif', 'iwasinhyderabadgivingthislecturewhenayearoldgirlaskedmeformyautograph', 'iaskedherwhathergoalinlifei', 'sherepliediwanttoliveinadevelopedindia', 'forheryouandiwillhavetobuildthisdevelopedindia', 'youmustproclaimindiaisnotanunderdevelopednationitisahighlydevelopedn', 'yousaythatourgovernmentisineffici', 'yousaythatourlawsaretooold', 'yousaythatthemunicipalitydoesnotpickupthegarbag', 'yousaythatthephonesdontworktherailwaysareajoketheairlineistheworstintheworldandmailsneverreachtheirdestin', 'yousaythatourcountryhasbeenfedtothedogsandistheabsolutepit', 'yousaysayandsay', 'whatdoyoudoaboutit']\n"
     ]
    }
   ],
   "source": [
    "print(corpus)"
   ]
  },
  {
   "cell_type": "code",
   "execution_count": 6,
   "metadata": {},
   "outputs": [],
   "source": [
    "# creating bag of words\n",
    "from sklearn.feature_extraction.text import CountVectorizer\n",
    "cv= CountVectorizer()\n",
    "x= cv.fit_transform(corpus).toarray()"
   ]
  },
  {
   "cell_type": "code",
   "execution_count": 7,
   "metadata": {},
   "outputs": [
    {
     "data": {
      "text/plain": [
       "array([[0, 0, 0, ..., 0, 0, 0],\n",
       "       [0, 0, 0, ..., 0, 0, 0],\n",
       "       [0, 0, 0, ..., 0, 0, 0],\n",
       "       ...,\n",
       "       [0, 0, 0, ..., 0, 0, 0],\n",
       "       [0, 0, 0, ..., 0, 0, 0],\n",
       "       [0, 0, 0, ..., 0, 0, 0]], dtype=int64)"
      ]
     },
     "execution_count": 7,
     "metadata": {},
     "output_type": "execute_result"
    }
   ],
   "source": [
    "x"
   ]
  },
  {
   "cell_type": "code",
   "execution_count": null,
   "metadata": {},
   "outputs": [],
   "source": []
  },
  {
   "cell_type": "code",
   "execution_count": null,
   "metadata": {},
   "outputs": [],
   "source": []
  }
 ],
 "metadata": {
  "kernelspec": {
   "display_name": "Python 3",
   "language": "python",
   "name": "python3"
  },
  "language_info": {
   "codemirror_mode": {
    "name": "ipython",
    "version": 3
   },
   "file_extension": ".py",
   "mimetype": "text/x-python",
   "name": "python",
   "nbconvert_exporter": "python",
   "pygments_lexer": "ipython3",
   "version": "3.7.4"
  }
 },
 "nbformat": 4,
 "nbformat_minor": 2
}
